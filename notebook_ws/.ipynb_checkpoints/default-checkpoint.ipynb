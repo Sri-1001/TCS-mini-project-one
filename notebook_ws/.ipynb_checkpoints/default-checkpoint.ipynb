{
 "cells": [
  {
   "cell_type": "markdown",
   "metadata": {
    "colab_type": "text",
    "id": "VKVmOzupi70R"
   },
   "source": [
    "<img src=\"images/logos/The-Construct-logo-new.png\" width=\"700\">"
   ]
  },
  {
   "cell_type": "markdown",
   "metadata": {},
   "source": [
    "# PRESENTS..."
   ]
  },
  {
   "cell_type": "markdown",
   "metadata": {},
   "source": [
    "# ROS Developers Open Class n.147"
   ]
  },
  {
   "cell_type": "markdown",
   "metadata": {},
   "source": [
    "<img src=\"images/Open-Class-147.jpeg\" width=\"650\" />"
   ]
  },
  {
   "cell_type": "markdown",
   "metadata": {},
   "source": [
    "## How to Launch the Simulation"
   ]
  },
  {
   "cell_type": "markdown",
   "metadata": {},
   "source": [
    "To start the simulation, first we'll need to source our workspace:\n",
    "\n",
    "- Open a terminal window by clicking on the shell icon on the bottom left side of your screen:\n",
    "\n",
    "<img src=\"images/shell-superapp.png\" width=\"450\" />\n",
    "\n",
    "- Copy and paste the following terminal commands in your shell:\n"
   ]
  },
  {
   "cell_type": "markdown",
   "metadata": {},
   "source": [
    "<span class=\"badge badge-pill badge-primary\">\n",
    "    <i class=\"fa fa-play\"></i>\n",
    "    &nbsp;\n",
    "    Execute in Shell\n",
    "</span>"
   ]
  },
  {
   "cell_type": "code",
   "execution_count": null,
   "metadata": {},
   "outputs": [],
   "source": [
    "source catkin_ws/devel/setup.bash\n",
    "roslaunch robot_description empty_world.launch"
   ]
  },
  {
   "cell_type": "markdown",
   "metadata": {},
   "source": [
    "And that's it! You should be able to see the simulation and control everything as if it was the real robot if you go to the Gazebo button in the bottom left side of your screen:\n",
    "\n",
    "<img src=\"images/gazebo-icon.png\" width=\"100\" />\n",
    "\n",
    "\n",
    "**Wait around 30 seconds maximum** for the simulaion to start and you should see this simulation now:\n",
    "\n",
    "\n",
    "<img src=\"images/empty-world.png\" width=\"800\" />"
   ]
  },
  {
   "cell_type": "markdown",
   "metadata": {},
   "source": [
    "## Requirements"
   ]
  },
  {
   "cell_type": "markdown",
   "metadata": {},
   "source": [
    "<a href=\"https://app.theconstructsim.com/#/Course/78\" target=\"_blank\">Mastering Gazebo Simulator</a>"
   ]
  },
  {
   "cell_type": "markdown",
   "metadata": {},
   "source": [
    "<a href=\"https://app.theconstructsim.com/#/Course/78\" target=\"_blank\"><img src=\"images/gazebo-course.png\" width=\"\" /></a>"
   ]
  },
  {
   "cell_type": "markdown",
   "metadata": {
    "colab_type": "text",
    "id": "VKVmOzupi70R"
   },
   "source": [
    "<div class=\"jumbotron m-0\">\n",
    "    <hr />\n",
    "    <h1 class=\"text-center\">\n",
    "        <span class=\"text-primary\">\n",
    "            Gazebo and ROS\n",
    "        </span>\n",
    "    </h1>\n",
    "    <hr />\n",
    "</div>"
   ]
  },
  {
   "cell_type": "markdown",
   "metadata": {},
   "source": [
    "<div>\n",
    "    <h2 class=\"text-center\">\n",
    "        <span class=\"text-primary\">1</span>\n",
    "        &nbsp;\n",
    "        <span class=\"\">Spawn a Robot in Gazebo</span>\n",
    "    </h2>\n",
    "</div>"
   ]
  },
  {
   "cell_type": "markdown",
   "metadata": {},
   "source": [
    "You currently have an empty world. Spawn the robot in a separate file. It is a better approach while you are developing because it allows you to remove the robot and re-spawn without restarting the whole simulation.\n",
    "\n",
    "Create a new file **spawn.launch** and paste the content below:"
   ]
  },
  {
   "cell_type": "markdown",
   "metadata": {},
   "source": [
    "<span class=\"badge badge-pill badge-primary\" style=\"margin-top:10px;\">\n",
    "    <i class=\"fa fa-file\"></i>\n",
    "    &nbsp;\n",
    "    spawn.launch.py\n",
    "</span>"
   ]
  },
  {
   "cell_type": "code",
   "execution_count": null,
   "metadata": {},
   "outputs": [],
   "source": [
    "<launch>\n",
    "    <param name=\"robot_description\" command=\"cat '$(find robot_description)/urdf/robot.urdf'\" />\n",
    "\n",
    "    <arg name=\"x\" default=\"0\"/>\n",
    "    <arg name=\"y\" default=\"0\"/>\n",
    "    <arg name=\"z\" default=\"0.5\"/>\n",
    "\n",
    "    <node name=\"mybot_spawn\" pkg=\"gazebo_ros\" type=\"spawn_model\" output=\"screen\"\n",
    "          args=\"-urdf -param robot_description -model my_robot -x $(arg x) -y $(arg y) -z $(arg z)\" />\n",
    "\n",
    "</launch>"
   ]
  },
  {
   "cell_type": "markdown",
   "metadata": {},
   "source": [
    "You are allowed three arguments with the CLI: X, Y, and Z. And run this **gazebo_ros/spawn_model** node, which is in charge of converting the URDF model and inserting it into the running Gazebo simulation.\n",
    "\n",
    "Spawn the robot:\n",
    "\n",
    "<span class=\"badge badge-pill badge-primary\" style=\"margin-top:10px;\">\n",
    "    <i class=\"fa fa-play\"></i>\n",
    "    &nbsp;\n",
    "    Execute\n",
    "</span>\n",
    "\n",
    "```shell\n",
    "roslaunch robot_description spawn.launch\n",
    "```\n",
    "\n",
    "The result must be like the image below:\n",
    "\n",
    "![Spawn robot](images/robot-blue.png)"
   ]
  },
  {
   "cell_type": "markdown",
   "metadata": {},
   "source": [
    "<div>\n",
    "    <h2 class=\"text-center\">\n",
    "        <span class=\"text-primary\">2</span>\n",
    "        &nbsp;\n",
    "        <span class=\"\">Gazebo's ROS node</span>\n",
    "    </h2>\n",
    "</div>"
   ]
  },
  {
   "cell_type": "markdown",
   "metadata": {},
   "source": [
    "In the next sections, you will need the empty world running:\n",
    "\n",
    "<span class=\"badge badge-pill badge-primary\" style=\"margin-top:10px;\">\n",
    "    <i class=\"fa fa-play\"></i>\n",
    "    &nbsp;\n",
    "    Execute\n",
    "</span>\n",
    "\n",
    "```shell\n",
    "roslaunch robot_description empty_world.launch\n",
    "```"
   ]
  },
  {
   "cell_type": "markdown",
   "metadata": {},
   "source": [
    "<div class=\"bg-primary text-center\">\n",
    "    - Gazebo node -\n",
    "</div>"
   ]
  },
  {
   "cell_type": "markdown",
   "metadata": {},
   "source": [
    "You learned how to launch a Gazebo simulation using ROS launch files. You are working like that because it creates ROS instances that represent Gazebo in your ROS environment.\n",
    "\n",
    "The simulation is represented by a node called **/gazebo**.\n",
    "\n",
    "You can see more details about that node using **rqt*:\n",
    "\n",
    "<span class=\"badge badge-pill badge-primary\" style=\"margin-top:10px;\">\n",
    "    <i class=\"fa fa-play\"></i>\n",
    "    &nbsp;\n",
    "    Execute\n",
    "</span>\n",
    "\n",
    "```shell\n",
    "rqt_graph\n",
    "```\n",
    "\n",
    "![Gazebo node](images/gazebo_topics.png)"
   ]
  },
  {
   "cell_type": "markdown",
   "metadata": {},
   "source": [
    "<div class=\"bg-primary text-center\">\n",
    "    - End of Gazebo node -\n",
    "</div>"
   ]
  },
  {
   "cell_type": "markdown",
   "metadata": {},
   "source": [
    "<div class=\"bg-primary text-center\">\n",
    "    - Gazebo topics -\n",
    "</div>"
   ]
  },
  {
   "cell_type": "markdown",
   "metadata": {},
   "source": [
    "The topics that Gazebo is subscribing to (**set_link_state** and **set_model_state**) can be used to change the simulation links and model positions in runtime.\n",
    "\n",
    "It is possible to get information about the simulation in runtime using the published topics: **model_states**, **link_states**, and others."
   ]
  },
  {
   "cell_type": "markdown",
   "metadata": {},
   "source": [
    "<div class=\"bg-success text-center\">\n",
    "    Exercise 1\n",
    "</div>"
   ]
  },
  {
   "cell_type": "markdown",
   "metadata": {},
   "source": [
    "Insert a box in the empty world, using one terminal to echo **/gazebo/model_states** and another to publish to **/gazebo/set_model_state**. The goal is to change the position of the box using Gazebo topics.\n",
    "\n",
    "### Hints\n",
    "\n",
    "- Check the type of messages you need to publish to **set_model_state**\n",
    "- Use the auto-complete of the terminals to fill the necessary fields and update the ones you think are necessary\n",
    "- Use your ROS knowledge for this exercise!"
   ]
  },
  {
   "cell_type": "markdown",
   "metadata": {},
   "source": [
    "<div class=\"bg-success text-center\">\n",
    "    End of Exercise 1\n",
    "</div>"
   ]
  },
  {
   "cell_type": "markdown",
   "metadata": {},
   "source": [
    "![Solution](https://s3.eu-west-1.amazonaws.com/readme.theconstructsim.com/__others__/course_gazebo_intro/sol-ex-3.1.gif)"
   ]
  },
  {
   "cell_type": "markdown",
   "metadata": {},
   "source": [
    "<div class=\"bg-primary text-center\">\n",
    "    - End of Gazebo topics -\n",
    "</div>"
   ]
  },
  {
   "cell_type": "markdown",
   "metadata": {},
   "source": [
    "<div class=\"bg-primary text-center\">\n",
    "    - Gazebo services -\n",
    "</div>"
   ]
  },
  {
   "cell_type": "markdown",
   "metadata": {},
   "source": [
    "Gazebo starts with several services available. However, most of them are complex, for example, the **/gazebo/spaw_urdf_model**, which is internally used when you spawn a robot in a launch file. Therefore, it is not practical to use it from the CLI.\n",
    "\n",
    "There are other useful and simple services worth mentioning because they can help you to develop and work with the simulator:\n",
    "\n",
    "- **/gazebo/pause_physics**\n",
    "- **/gazebo/unpause_physics**\n",
    "- **/gazebo/reset_simulator**\n",
    "- **/gazebo/reset_world**\n",
    "\n",
    "\n",
    "### Pause and unpause\n",
    "\n",
    "The first two are used to pause and unpause the simulation:\n",
    "\n",
    "![](https://s3.eu-west-1.amazonaws.com/readme.theconstructsim.com/__others__/course_gazebo_intro/gazebo-pause-unpause.gif)\n",
    "\n",
    "### Reset world and simulation\n",
    "\n",
    "**Reset world** will put all objects back in their initial places. So even if you create an object after the simulation has started, a reset command will put it back, instead of removing it.\n",
    "\n",
    "**Reset simulation** does the same, except it will also reset the simulation time. You can see the simulation time at the bottom bar."
   ]
  },
  {
   "cell_type": "markdown",
   "metadata": {},
   "source": [
    "<div class=\"bg-success text-center\">\n",
    "    - Practice -\n",
    "</div>"
   ]
  },
  {
   "cell_type": "markdown",
   "metadata": {},
   "source": [
    "Add some simple objects to the empty simulation and call the services you have just learned to see the effects.\n",
    "\n",
    "![](https://s3.eu-west-1.amazonaws.com/readme.theconstructsim.com/__others__/course_gazebo_intro/gazebo-reset.gif)"
   ]
  },
  {
   "cell_type": "markdown",
   "metadata": {},
   "source": [
    "<div class=\"bg-success text-center\">\n",
    "    - End of Practice -\n",
    "</div>"
   ]
  },
  {
   "cell_type": "markdown",
   "metadata": {},
   "source": [
    "<div class=\"bg-primary text-center\">\n",
    "    - End of Gazebo services -\n",
    "</div>"
   ]
  },
  {
   "cell_type": "markdown",
   "metadata": {},
   "source": [
    "<div>\n",
    "    <h2 class=\"text-center\">\n",
    "        <span class=\"text-primary\">2</span>\n",
    "        &nbsp;\n",
    "        <span class=\"\">ROS Plugin - Robot differential driver</span>\n",
    "    </h2>\n",
    "</div>"
   ]
  },
  {
   "cell_type": "markdown",
   "metadata": {},
   "source": [
    "You have the robot ready to move! Your next step is to connect it to ROS is to make it possible to move the robot by it publishing to a ROS topic. There is a plugin for it, the **gazebo_ros_diff_drive**, and it can be included in the URDF model using the **Gazebo** tag. This is how it goes:\n",
    "\n",
    "<span class=\"badge badge-pill badge-primary\" style=\"margin-top:10px;\">\n",
    "    <i class=\"fa fa-copy\"></i>\n",
    "    &nbsp;\n",
    "    Copy and Paste\n",
    "</span>\n",
    "\n",
    "```xml\n",
    "<gazebo>\n",
    "    <plugin filename=\"libgazebo_ros_diff_drive.so\" name=\"differential_drive_controller\">\n",
    "        <alwaysOn>true</alwaysOn>\n",
    "        <updateRate>20</updateRate>\n",
    "        <leftJoint>joint_chassis_left_wheel</leftJoint>\n",
    "        <rightJoint>joint_chassis_right_wheel</rightJoint>\n",
    "        <wheelSeparation>1.66</wheelSeparation>\n",
    "        <wheelDiameter>0.8</wheelDiameter>\n",
    "        <torque>10</torque>\n",
    "        <commandTopic>cmd_vel</commandTopic>\n",
    "        <odometryTopic>odom</odometryTopic>\n",
    "        <odometryFrame>odom</odometryFrame>\n",
    "        <robotBaseFrame>link_chassis</robotBaseFrame>\n",
    "    </plugin>\n",
    "</gazebo>\n",
    "```\n",
    "\n",
    "Paste that instruction after the others you have just added. Then, inside the robot URDF definition, delete the robot and spawn it again.\n",
    "\n",
    "What has changed? Nothing new to the robot model, but check the available ROS topics! Go to the terminal:\n",
    "\n",
    "<span class=\"badge badge-pill badge-primary\" style=\"margin-top:10px;\">\n",
    "    <i class=\"fa fa-play\"></i>\n",
    "    &nbsp;\n",
    "    Execute\n",
    "</span>\n",
    "\n",
    "```shell\n",
    "rostopic list\n",
    "```\n",
    "\n",
    "![](images/ros-topics.png)\n",
    "\n",
    "You can move the robot by publishing to **/cmd_vel** ss you have just configured. The angular velocities will take into account the separation between the wheels. The linear velocity takes into account the wheel diameter configured.\n",
    "\n",
    "You also have the **/odom** topic that receives messages from this Gazebo plugin containing information about the robot's position."
   ]
  },
  {
   "cell_type": "markdown",
   "metadata": {},
   "source": [
    "<div class=\"bg-success text-center\">\n",
    "    - Exercise -\n",
    "</div>"
   ]
  },
  {
   "cell_type": "markdown",
   "metadata": {},
   "source": [
    "Create a simple **Python script** that moves the robot based on two arguments: **linear** and **angular** velocities.\n",
    "\n",
    "While the robot is moving, the program must display the robot's position on the **X** and **Y**-axis.\n",
    "\n",
    "Expected result:\n",
    "\n",
    "![](https://s3.eu-west-1.amazonaws.com/readme.theconstructsim.com/__others__/course_gazebo_intro/move-odom.gif)"
   ]
  },
  {
   "cell_type": "markdown",
   "metadata": {},
   "source": [
    "<div class=\"bg-success text-center\">\n",
    "    - End of Exercise -\n",
    "</div>"
   ]
  },
  {
   "cell_type": "markdown",
   "metadata": {},
   "source": [
    "<span class=\"badge badge-pill badge-primary\" style=\"margin-top:10px;\">\n",
    "    <i class=\"fa fa-file\"></i>\n",
    "    &nbsp;\n",
    "    move.py\n",
    "</span>"
   ]
  },
  {
   "cell_type": "code",
   "execution_count": null,
   "metadata": {},
   "outputs": [],
   "source": [
    "#!/usr/bin/env python\n",
    "\n",
    "import rospy\n",
    "from geometry_msgs.msg import Twist\n",
    "from nav_msgs.msg import Odometry\n",
    "\n",
    "def callback(msg):\n",
    "    print('X: %s, Y: %s' % (msg.pose.pose.position.x, msg.pose.pose.position.y))\n",
    "\n",
    "def main():\n",
    "    sub = rospy.Subscriber('/odom', Odometry, callback)\n",
    "    pub = rospy.Publisher('/cmd_vel', Twist, queue_size=10)\n",
    "    rospy.init_node('exercise_node', anonymous=True)\n",
    "    rate = rospy.Rate(10) # 10hz\n",
    "    while not rospy.is_shutdown():\n",
    "        msg = Twist()\n",
    "        msg.linear.x = 0.3\n",
    "        msg.angular.z = 0.3\n",
    "        pub.publish(msg)\n",
    "        rate.sleep()\n",
    "\n",
    "if __name__ == '__main__':\n",
    "    try:\n",
    "        main()\n",
    "    except rospy.ROSInterruptException:\n",
    "        pass"
   ]
  },
  {
   "cell_type": "markdown",
   "metadata": {},
   "source": [
    "## And that's it! You are ready to start working with ROS2 Humble and exploring all its new features!"
   ]
  },
  {
   "cell_type": "markdown",
   "metadata": {},
   "source": [
    "## Remember you can learn more about ROS2 Basics in our courses in the Academy:"
   ]
  },
  {
   "cell_type": "markdown",
   "metadata": {},
   "source": [
    "<a href=\"https://app.theconstructsim.com/#/Course/78\" target=\"_blank\">Mastering Gazebo Simulator</a>"
   ]
  },
  {
   "cell_type": "markdown",
   "metadata": {},
   "source": [
    "<a href=\"https://app.theconstructsim.com/#/Course/78\" target=\"_blank\"><img src=\"images/gazebo-course.png\" width=\"\" /></a>"
   ]
  },
  {
   "cell_type": "markdown",
   "metadata": {},
   "source": [
    "# Build the future, Become a ROS DEVELOPER!"
   ]
  }
 ],
 "metadata": {
  "colab": {
   "collapsed_sections": [
    "-gXVv0x7JCVH",
    "DWJVcmhj0PAI",
    "cUYXevdcdmvz",
    "tAtKbJLddtts",
    "dHky_ri5dtqv",
    "OOVbIGbBfABL",
    "mAV21bUTlsdK"
   ],
   "name": "unit2.ipynb",
   "provenance": []
  },
  "kernelspec": {
   "display_name": "Python 2",
   "language": "python",
   "name": "python2"
  },
  "language_info": {
   "codemirror_mode": {
    "name": "ipython",
    "version": 2
   },
   "file_extension": ".py",
   "mimetype": "text/x-python",
   "name": "python",
   "nbconvert_exporter": "python",
   "pygments_lexer": "ipython2",
   "version": "2.7.16"
  }
 },
 "nbformat": 4,
 "nbformat_minor": 1
}
